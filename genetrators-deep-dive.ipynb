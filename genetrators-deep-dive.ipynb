{
 "cells": [
  {
   "cell_type": "code",
   "execution_count": 1,
   "metadata": {},
   "outputs": [
    {
     "ename": "ValueError",
     "evalue": "too many values to unpack (expected 2)",
     "output_type": "error",
     "traceback": [
      "\u001b[1;31m---------------------------------------------------------------------------\u001b[0m",
      "\u001b[1;31mValueError\u001b[0m                                Traceback (most recent call last)",
      "Cell \u001b[1;32mIn[1], line 1\u001b[0m\n\u001b[1;32m----> 1\u001b[0m \u001b[39mfor\u001b[39;00m x,y \u001b[39min\u001b[39;00m  \u001b[39mrange\u001b[39m(\u001b[39m5\u001b[39m),\u001b[39mrange\u001b[39m(\u001b[39m5\u001b[39m):\n\u001b[0;32m      2\u001b[0m     \u001b[39mprint\u001b[39m(x,y)\n",
      "\u001b[1;31mValueError\u001b[0m: too many values to unpack (expected 2)"
     ]
    }
   ],
   "source": [
    "for x,y in  range(5),range(5):\n",
    "    print(x,y)"
   ]
  },
  {
   "cell_type": "code",
   "execution_count": 2,
   "metadata": {},
   "outputs": [
    {
     "ename": "TypeError",
     "evalue": "'range' object is not an iterator",
     "output_type": "error",
     "traceback": [
      "\u001b[1;31m---------------------------------------------------------------------------\u001b[0m",
      "\u001b[1;31mTypeError\u001b[0m                                 Traceback (most recent call last)",
      "Cell \u001b[1;32mIn[2], line 8\u001b[0m\n\u001b[0;32m      4\u001b[0m     \u001b[39myield\u001b[39;00m (\u001b[39mnext\u001b[39m(g) \u001b[39mfor\u001b[39;00m g \u001b[39min\u001b[39;00m gens)\n\u001b[0;32m      6\u001b[0m gen \u001b[39m=\u001b[39m \u001b[39mrange\u001b[39m(\u001b[39m10\u001b[39m)\n\u001b[1;32m----> 8\u001b[0m \u001b[39mfor\u001b[39;00m x,y \u001b[39min\u001b[39;00m composite_gen(gen,gen):\n\u001b[0;32m      9\u001b[0m     \u001b[39mprint\u001b[39m(x,y)\n",
      "Cell \u001b[1;32mIn[2], line 4\u001b[0m, in \u001b[0;36m<genexpr>\u001b[1;34m(.0)\u001b[0m\n\u001b[0;32m      3\u001b[0m \u001b[39mdef\u001b[39;00m \u001b[39mcomposite_gen\u001b[39m(\u001b[39m*\u001b[39mgens):\n\u001b[1;32m----> 4\u001b[0m     \u001b[39myield\u001b[39;00m (\u001b[39mnext\u001b[39;49m(g) \u001b[39mfor\u001b[39;00m g \u001b[39min\u001b[39;00m gens)\n",
      "\u001b[1;31mTypeError\u001b[0m: 'range' object is not an iterator"
     ]
    }
   ],
   "source": [
    "# Composite generator\n",
    "\n",
    "def composite_gen(*gens):\n",
    "    yield (next(g) for g in gens)\n",
    "\n",
    "gen = range(10)\n",
    "\n",
    "for x,y in composite_gen(gen,gen):\n",
    "    print(x,y)"
   ]
  },
  {
   "cell_type": "code",
   "execution_count": 3,
   "metadata": {},
   "outputs": [
    {
     "data": {
      "text/plain": [
       "0"
      ]
     },
     "execution_count": 3,
     "metadata": {},
     "output_type": "execute_result"
    }
   ],
   "source": [
    "gen = range(10)\n",
    "next(iter(gen))"
   ]
  },
  {
   "cell_type": "code",
   "execution_count": 4,
   "metadata": {},
   "outputs": [
    {
     "name": "stdout",
     "output_type": "stream",
     "text": [
      "(0, 'a')\n",
      "(1, 'b')\n",
      "(2, 'c')\n"
     ]
    }
   ],
   "source": [
    "# it yields a tuple !!!\n",
    "for x in enumerate(\"abc\"):\n",
    "    print(x)"
   ]
  },
  {
   "cell_type": "code",
   "execution_count": 5,
   "metadata": {},
   "outputs": [
    {
     "name": "stdout",
     "output_type": "stream",
     "text": [
      "0 1\n",
      "1 2\n",
      "2 3\n",
      "3 4\n",
      "4 5\n",
      "5 6\n",
      "6 7\n",
      "7 8\n",
      "8 9\n",
      "9 10\n"
     ]
    }
   ],
   "source": [
    "# Accidentally made a zip() without knowing it\n",
    "\n",
    "\n",
    "def iter_concatenated(*iter_ables):\n",
    "    iterators = [iter(i) for i in iter_ables]\n",
    "    while True:\n",
    "        try:\n",
    "            yield [next(i) for i in iterators]\n",
    "        except:\n",
    "            break\n",
    "\n",
    "\n",
    "for x,y in iter_concatenated(range(10),range(1,11)):\n",
    "    print(x,y)"
   ]
  },
  {
   "cell_type": "code",
   "execution_count": 6,
   "metadata": {},
   "outputs": [
    {
     "name": "stdout",
     "output_type": "stream",
     "text": [
      "0 1\n",
      "1 2\n",
      "2 3\n",
      "3 4\n",
      "4 5\n",
      "5 6\n",
      "6 7\n",
      "7 8\n",
      "8 9\n",
      "9 10\n"
     ]
    }
   ],
   "source": [
    "# It has been a ZIP all along !!!\n",
    "\n",
    "for x,y in zip(range(10),range(1,11)):\n",
    "    print(x,y)"
   ]
  },
  {
   "cell_type": "code",
   "execution_count": 7,
   "metadata": {},
   "outputs": [
    {
     "name": "stdout",
     "output_type": "stream",
     "text": [
      "<generator object <genexpr> at 0x000001F55F1FEFF0>\n",
      "<generator object gen_func at 0x000001F55F1FE650>\n"
     ]
    }
   ],
   "source": [
    "gen_1 = (x for x in range(10))\n",
    "print(gen_1)\n",
    "\n",
    "def gen_func(num):\n",
    "    while num > 0:\n",
    "        yield num\n",
    "        num -= 1\n",
    "print(gen_func(10))"
   ]
  },
  {
   "cell_type": "code",
   "execution_count": 8,
   "metadata": {},
   "outputs": [
    {
     "name": "stdout",
     "output_type": "stream",
     "text": [
      "<list_iterator object at 0x000001F5603B6980>\n",
      "<dict_keyiterator object at 0x000001F56051B830>\n"
     ]
    }
   ],
   "source": [
    "my_list = [1,2,3]\n",
    "print(iter(my_list))\n",
    "my_dict = {1:1,2:2}\n",
    "print(iter(my_dict))"
   ]
  },
  {
   "cell_type": "code",
   "execution_count": 9,
   "metadata": {},
   "outputs": [
    {
     "ename": "TypeError",
     "evalue": "'generator' object is not subscriptable",
     "output_type": "error",
     "traceback": [
      "\u001b[1;31m---------------------------------------------------------------------------\u001b[0m",
      "\u001b[1;31mTypeError\u001b[0m                                 Traceback (most recent call last)",
      "Cell \u001b[1;32mIn[9], line 5\u001b[0m\n\u001b[0;32m      3\u001b[0m iterables \u001b[39m=\u001b[39m (\u001b[39mrange\u001b[39m(\u001b[39m10\u001b[39m), \u001b[39m\"\u001b[39m\u001b[39masdfasdf\u001b[39m\u001b[39m\"\u001b[39m)\n\u001b[0;32m      4\u001b[0m iterators \u001b[39m=\u001b[39m (\u001b[39miter\u001b[39m(i) \u001b[39mfor\u001b[39;00m i \u001b[39min\u001b[39;00m iterables)\n\u001b[1;32m----> 5\u001b[0m \u001b[39mprint\u001b[39m((\u001b[39mnext\u001b[39m(iterators[\u001b[39m0\u001b[39;49m]),\u001b[39mnext\u001b[39m(iterators[\u001b[39m1\u001b[39m])))\n\u001b[0;32m      6\u001b[0m \u001b[39mprint\u001b[39m((\u001b[39mnext\u001b[39m(iterators[\u001b[39m0\u001b[39m]),\u001b[39mnext\u001b[39m(iterators[\u001b[39m1\u001b[39m])))\n",
      "\u001b[1;31mTypeError\u001b[0m: 'generator' object is not subscriptable"
     ]
    }
   ],
   "source": [
    "# what is going on in here ???\n",
    "\n",
    "iterables = (range(10), \"asdfasdf\")\n",
    "iterators = (iter(i) for i in iterables)\n",
    "print((next(iterators[0]),next(iterators[1])))\n",
    "print((next(iterators[0]),next(iterators[1])))"
   ]
  },
  {
   "cell_type": "code",
   "execution_count": 10,
   "metadata": {},
   "outputs": [
    {
     "name": "stdout",
     "output_type": "stream",
     "text": [
      "(0, 'a')\n",
      "(1, 's')\n"
     ]
    }
   ],
   "source": [
    "iterables = (range(10), \"asdfasdf\")\n",
    "iterators = [iter(i) for i in iterables]\n",
    "print(tuple(next(i) for i in iterators))\n",
    "print(tuple(next(i) for i in iterators))"
   ]
  },
  {
   "cell_type": "code",
   "execution_count": 11,
   "metadata": {},
   "outputs": [
    {
     "name": "stdout",
     "output_type": "stream",
     "text": [
      "<generator object <genexpr> at 0x000001F55F1FF0D0>\n"
     ]
    }
   ],
   "source": [
    "my_list = [1,2,3,4,5]\n",
    "enigma = (i for i in my_list)\n",
    "print(enigma)"
   ]
  },
  {
   "cell_type": "code",
   "execution_count": 14,
   "metadata": {},
   "outputs": [
    {
     "name": "stdout",
     "output_type": "stream",
     "text": [
      "a s\n"
     ]
    }
   ],
   "source": [
    "q,w,e,r,t = \"asdfg\"\n",
    "print(q,w)"
   ]
  },
  {
   "cell_type": "code",
   "execution_count": 13,
   "metadata": {},
   "outputs": [
    {
     "name": "stdout",
     "output_type": "stream",
     "text": [
      "{'max': 5}\n",
      "0\n",
      "1\n",
      "2\n",
      "3\n",
      "4\n",
      "5\n",
      "{'max': 5, 'n': 6}\n"
     ]
    }
   ],
   "source": [
    "class UpTo:\n",
    "    # giving the parameter a default value of 0\n",
    "    def __init__(self, max = 0):\n",
    "        self.max = max\n",
    "    def __iter__(self):\n",
    "        self.n = 0\n",
    "        return self\n",
    "    def __next__(self):\n",
    "        # The next method will throw an\n",
    "        # exception when the termination condition is reached.\n",
    "        if self.n > self.max:\n",
    "            raise StopIteration\n",
    "        else:\n",
    "            result = self.n\n",
    "            self.n += 1\n",
    "            return result\n",
    "what = UpTo(5)\n",
    "print(what.__dict__)\n",
    "\n",
    "for number in what:\n",
    "    print(number)\n",
    "\n",
    "print(what.__dict__)"
   ]
  },
  {
   "cell_type": "code",
   "execution_count": 12,
   "metadata": {},
   "outputs": [
    {
     "name": "stdout",
     "output_type": "stream",
     "text": [
      "5\n",
      "4\n",
      "3\n",
      "2\n",
      "1\n"
     ]
    }
   ],
   "source": [
    "def gen_func(num):\n",
    "    while num > 0:\n",
    "        yield num\n",
    "        num -= 1\n",
    "\n",
    "for x in gen_func(5):\n",
    "    print(x)"
   ]
  }
 ],
 "metadata": {
  "kernelspec": {
   "display_name": "Python 3",
   "language": "python",
   "name": "python3"
  },
  "language_info": {
   "codemirror_mode": {
    "name": "ipython",
    "version": 3
   },
   "file_extension": ".py",
   "mimetype": "text/x-python",
   "name": "python",
   "nbconvert_exporter": "python",
   "pygments_lexer": "ipython3",
   "version": "3.10.8"
  },
  "orig_nbformat": 4,
  "vscode": {
   "interpreter": {
    "hash": "26de051ba29f2982a8de78e945f0abaf191376122a1563185a90213a26c5da77"
   }
  }
 },
 "nbformat": 4,
 "nbformat_minor": 2
}
